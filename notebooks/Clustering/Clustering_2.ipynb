{
 "cells": [
  {
   "cell_type": "code",
   "execution_count": 1,
   "metadata": {},
   "outputs": [],
   "source": [
    "import pandas as pd"
   ]
  },
  {
   "cell_type": "code",
   "execution_count": 4,
   "metadata": {},
   "outputs": [],
   "source": [
    "data = pd.read_csv(\"https://raw.githubusercontent.com/IsraelObreque/Introduction_to_ML-Python/main/datasets/wine/winequality-red.csv\", sep = \";\")"
   ]
  },
  {
   "cell_type": "code",
   "execution_count": 5,
   "metadata": {},
   "outputs": [
    {
     "data": {
      "text/html": [
       "<div>\n",
       "<style scoped>\n",
       "    .dataframe tbody tr th:only-of-type {\n",
       "        vertical-align: middle;\n",
       "    }\n",
       "\n",
       "    .dataframe tbody tr th {\n",
       "        vertical-align: top;\n",
       "    }\n",
       "\n",
       "    .dataframe thead th {\n",
       "        text-align: right;\n",
       "    }\n",
       "</style>\n",
       "<table border=\"1\" class=\"dataframe\">\n",
       "  <thead>\n",
       "    <tr style=\"text-align: right;\">\n",
       "      <th></th>\n",
       "      <th>fixed acidity</th>\n",
       "      <th>volatile acidity</th>\n",
       "      <th>citric acid</th>\n",
       "      <th>residual sugar</th>\n",
       "      <th>chlorides</th>\n",
       "      <th>free sulfur dioxide</th>\n",
       "      <th>total sulfur dioxide</th>\n",
       "      <th>density</th>\n",
       "      <th>pH</th>\n",
       "      <th>sulphates</th>\n",
       "      <th>alcohol</th>\n",
       "      <th>quality</th>\n",
       "    </tr>\n",
       "  </thead>\n",
       "  <tbody>\n",
       "    <tr>\n",
       "      <th>0</th>\n",
       "      <td>7.4</td>\n",
       "      <td>0.70</td>\n",
       "      <td>0.00</td>\n",
       "      <td>1.9</td>\n",
       "      <td>0.076</td>\n",
       "      <td>11.0</td>\n",
       "      <td>34.0</td>\n",
       "      <td>0.9978</td>\n",
       "      <td>3.51</td>\n",
       "      <td>0.56</td>\n",
       "      <td>9.4</td>\n",
       "      <td>5</td>\n",
       "    </tr>\n",
       "    <tr>\n",
       "      <th>1</th>\n",
       "      <td>7.8</td>\n",
       "      <td>0.88</td>\n",
       "      <td>0.00</td>\n",
       "      <td>2.6</td>\n",
       "      <td>0.098</td>\n",
       "      <td>25.0</td>\n",
       "      <td>67.0</td>\n",
       "      <td>0.9968</td>\n",
       "      <td>3.20</td>\n",
       "      <td>0.68</td>\n",
       "      <td>9.8</td>\n",
       "      <td>5</td>\n",
       "    </tr>\n",
       "    <tr>\n",
       "      <th>2</th>\n",
       "      <td>7.8</td>\n",
       "      <td>0.76</td>\n",
       "      <td>0.04</td>\n",
       "      <td>2.3</td>\n",
       "      <td>0.092</td>\n",
       "      <td>15.0</td>\n",
       "      <td>54.0</td>\n",
       "      <td>0.9970</td>\n",
       "      <td>3.26</td>\n",
       "      <td>0.65</td>\n",
       "      <td>9.8</td>\n",
       "      <td>5</td>\n",
       "    </tr>\n",
       "    <tr>\n",
       "      <th>3</th>\n",
       "      <td>11.2</td>\n",
       "      <td>0.28</td>\n",
       "      <td>0.56</td>\n",
       "      <td>1.9</td>\n",
       "      <td>0.075</td>\n",
       "      <td>17.0</td>\n",
       "      <td>60.0</td>\n",
       "      <td>0.9980</td>\n",
       "      <td>3.16</td>\n",
       "      <td>0.58</td>\n",
       "      <td>9.8</td>\n",
       "      <td>6</td>\n",
       "    </tr>\n",
       "    <tr>\n",
       "      <th>4</th>\n",
       "      <td>7.4</td>\n",
       "      <td>0.70</td>\n",
       "      <td>0.00</td>\n",
       "      <td>1.9</td>\n",
       "      <td>0.076</td>\n",
       "      <td>11.0</td>\n",
       "      <td>34.0</td>\n",
       "      <td>0.9978</td>\n",
       "      <td>3.51</td>\n",
       "      <td>0.56</td>\n",
       "      <td>9.4</td>\n",
       "      <td>5</td>\n",
       "    </tr>\n",
       "  </tbody>\n",
       "</table>\n",
       "</div>"
      ],
      "text/plain": [
       "   fixed acidity  volatile acidity  citric acid  residual sugar  chlorides  \\\n",
       "0            7.4              0.70         0.00             1.9      0.076   \n",
       "1            7.8              0.88         0.00             2.6      0.098   \n",
       "2            7.8              0.76         0.04             2.3      0.092   \n",
       "3           11.2              0.28         0.56             1.9      0.075   \n",
       "4            7.4              0.70         0.00             1.9      0.076   \n",
       "\n",
       "   free sulfur dioxide  total sulfur dioxide  density    pH  sulphates  \\\n",
       "0                 11.0                  34.0   0.9978  3.51       0.56   \n",
       "1                 25.0                  67.0   0.9968  3.20       0.68   \n",
       "2                 15.0                  54.0   0.9970  3.26       0.65   \n",
       "3                 17.0                  60.0   0.9980  3.16       0.58   \n",
       "4                 11.0                  34.0   0.9978  3.51       0.56   \n",
       "\n",
       "   alcohol  quality  \n",
       "0      9.4        5  \n",
       "1      9.8        5  \n",
       "2      9.8        5  \n",
       "3      9.8        6  \n",
       "4      9.4        5  "
      ]
     },
     "execution_count": 5,
     "metadata": {},
     "output_type": "execute_result"
    }
   ],
   "source": [
    "data.head()"
   ]
  },
  {
   "cell_type": "code",
   "execution_count": 6,
   "metadata": {},
   "outputs": [
    {
     "data": {
      "text/plain": [
       "(1599, 12)"
      ]
     },
     "execution_count": 6,
     "metadata": {},
     "output_type": "execute_result"
    }
   ],
   "source": [
    "data.shape"
   ]
  },
  {
   "cell_type": "code",
   "execution_count": 9,
   "metadata": {},
   "outputs": [],
   "source": [
    "import matplotlib.pyplot as plt\n",
    "import seaborn as sns\n",
    "sns.set_style(\"white\")"
   ]
  },
  {
   "cell_type": "code",
   "execution_count": 13,
   "metadata": {},
   "outputs": [
    {
     "data": {
      "image/png": "[encoded data removed]",
      "text/plain": [
       "<Figure size 432x288 with 1 Axes>"
      ]
     },
     "metadata": {},
     "output_type": "display_data"
    }
   ],
   "source": [
    "plt.hist(data[\"quality\"], align = \"right\")\n",
    "plt.title(\"Calidad\")\n",
    "plt.grid()\n",
    "plt.show()"
   ]
  },
  {
   "cell_type": "code",
   "execution_count": 17,
   "metadata": {},
   "outputs": [
    {
     "data": {
      "text/html": [
       "<div>\n",
       "<style scoped>\n",
       "    .dataframe tbody tr th:only-of-type {\n",
       "        vertical-align: middle;\n",
       "    }\n",
       "\n",
       "    .dataframe tbody tr th {\n",
       "        vertical-align: top;\n",
       "    }\n",
       "\n",
       "    .dataframe thead th {\n",
       "        text-align: right;\n",
       "    }\n",
       "</style>\n",
       "<table border=\"1\" class=\"dataframe\">\n",
       "  <thead>\n",
       "    <tr style=\"text-align: right;\">\n",
       "      <th></th>\n",
       "      <th>fixed acidity</th>\n",
       "      <th>volatile acidity</th>\n",
       "      <th>citric acid</th>\n",
       "      <th>residual sugar</th>\n",
       "      <th>chlorides</th>\n",
       "      <th>free sulfur dioxide</th>\n",
       "      <th>total sulfur dioxide</th>\n",
       "      <th>density</th>\n",
       "      <th>pH</th>\n",
       "      <th>sulphates</th>\n",
       "      <th>alcohol</th>\n",
       "    </tr>\n",
       "    <tr>\n",
       "      <th>quality</th>\n",
       "      <th></th>\n",
       "      <th></th>\n",
       "      <th></th>\n",
       "      <th></th>\n",
       "      <th></th>\n",
       "      <th></th>\n",
       "      <th></th>\n",
       "      <th></th>\n",
       "      <th></th>\n",
       "      <th></th>\n",
       "      <th></th>\n",
       "    </tr>\n",
       "  </thead>\n",
       "  <tbody>\n",
       "    <tr>\n",
       "      <th>3</th>\n",
       "      <td>8.360000</td>\n",
       "      <td>0.884500</td>\n",
       "      <td>0.171000</td>\n",
       "      <td>2.635000</td>\n",
       "      <td>0.122500</td>\n",
       "      <td>11.000000</td>\n",
       "      <td>24.900000</td>\n",
       "      <td>0.997464</td>\n",
       "      <td>3.398000</td>\n",
       "      <td>0.570000</td>\n",
       "      <td>9.955000</td>\n",
       "    </tr>\n",
       "    <tr>\n",
       "      <th>4</th>\n",
       "      <td>7.779245</td>\n",
       "      <td>0.693962</td>\n",
       "      <td>0.174151</td>\n",
       "      <td>2.694340</td>\n",
       "      <td>0.090679</td>\n",
       "      <td>12.264151</td>\n",
       "      <td>36.245283</td>\n",
       "      <td>0.996542</td>\n",
       "      <td>3.381509</td>\n",
       "      <td>0.596415</td>\n",
       "      <td>10.265094</td>\n",
       "    </tr>\n",
       "    <tr>\n",
       "      <th>5</th>\n",
       "      <td>8.167254</td>\n",
       "      <td>0.577041</td>\n",
       "      <td>0.243686</td>\n",
       "      <td>2.528855</td>\n",
       "      <td>0.092736</td>\n",
       "      <td>16.983847</td>\n",
       "      <td>56.513950</td>\n",
       "      <td>0.997104</td>\n",
       "      <td>3.304949</td>\n",
       "      <td>0.620969</td>\n",
       "      <td>9.899706</td>\n",
       "    </tr>\n",
       "    <tr>\n",
       "      <th>6</th>\n",
       "      <td>8.347179</td>\n",
       "      <td>0.497484</td>\n",
       "      <td>0.273824</td>\n",
       "      <td>2.477194</td>\n",
       "      <td>0.084956</td>\n",
       "      <td>15.711599</td>\n",
       "      <td>40.869906</td>\n",
       "      <td>0.996615</td>\n",
       "      <td>3.318072</td>\n",
       "      <td>0.675329</td>\n",
       "      <td>10.629519</td>\n",
       "    </tr>\n",
       "    <tr>\n",
       "      <th>7</th>\n",
       "      <td>8.872362</td>\n",
       "      <td>0.403920</td>\n",
       "      <td>0.375176</td>\n",
       "      <td>2.720603</td>\n",
       "      <td>0.076588</td>\n",
       "      <td>14.045226</td>\n",
       "      <td>35.020101</td>\n",
       "      <td>0.996104</td>\n",
       "      <td>3.290754</td>\n",
       "      <td>0.741256</td>\n",
       "      <td>11.465913</td>\n",
       "    </tr>\n",
       "    <tr>\n",
       "      <th>8</th>\n",
       "      <td>8.566667</td>\n",
       "      <td>0.423333</td>\n",
       "      <td>0.391111</td>\n",
       "      <td>2.577778</td>\n",
       "      <td>0.068444</td>\n",
       "      <td>13.277778</td>\n",
       "      <td>33.444444</td>\n",
       "      <td>0.995212</td>\n",
       "      <td>3.267222</td>\n",
       "      <td>0.767778</td>\n",
       "      <td>12.094444</td>\n",
       "    </tr>\n",
       "  </tbody>\n",
       "</table>\n",
       "</div>"
      ],
      "text/plain": [
       "         fixed acidity  volatile acidity  citric acid  residual sugar  \\\n",
       "quality                                                                 \n",
       "3             8.360000          0.884500     0.171000        2.635000   \n",
       "4             7.779245          0.693962     0.174151        2.694340   \n",
       "5             8.167254          0.577041     0.243686        2.528855   \n",
       "6             8.347179          0.497484     0.273824        2.477194   \n",
       "7             8.872362          0.403920     0.375176        2.720603   \n",
       "8             8.566667          0.423333     0.391111        2.577778   \n",
       "\n",
       "         chlorides  free sulfur dioxide  total sulfur dioxide   density  \\\n",
       "quality                                                                   \n",
       "3         0.122500            11.000000             24.900000  0.997464   \n",
       "4         0.090679            12.264151             36.245283  0.996542   \n",
       "5         0.092736            16.983847             56.513950  0.997104   \n",
       "6         0.084956            15.711599             40.869906  0.996615   \n",
       "7         0.076588            14.045226             35.020101  0.996104   \n",
       "8         0.068444            13.277778             33.444444  0.995212   \n",
       "\n",
       "               pH  sulphates    alcohol  \n",
       "quality                                  \n",
       "3        3.398000   0.570000   9.955000  \n",
       "4        3.381509   0.596415  10.265094  \n",
       "5        3.304949   0.620969   9.899706  \n",
       "6        3.318072   0.675329  10.629519  \n",
       "7        3.290754   0.741256  11.465913  \n",
       "8        3.267222   0.767778  12.094444  "
      ]
     },
     "execution_count": 17,
     "metadata": {},
     "output_type": "execute_result"
    }
   ],
   "source": [
    "# miremos ela conjunto de datos a través de las calidades\n",
    "data.groupby(\"quality\").mean()"
   ]
  },
  {
   "cell_type": "markdown",
   "metadata": {},
   "source": [
    "**Normalización**"
   ]
  },
  {
   "cell_type": "code",
   "execution_count": 18,
   "metadata": {},
   "outputs": [
    {
     "data": {
      "text/html": [
       "<div>\n",
       "<style scoped>\n",
       "    .dataframe tbody tr th:only-of-type {\n",
       "        vertical-align: middle;\n",
       "    }\n",
       "\n",
       "    .dataframe tbody tr th {\n",
       "        vertical-align: top;\n",
       "    }\n",
       "\n",
       "    .dataframe thead th {\n",
       "        text-align: right;\n",
       "    }\n",
       "</style>\n",
       "<table border=\"1\" class=\"dataframe\">\n",
       "  <thead>\n",
       "    <tr style=\"text-align: right;\">\n",
       "      <th></th>\n",
       "      <th>fixed acidity</th>\n",
       "      <th>volatile acidity</th>\n",
       "      <th>citric acid</th>\n",
       "      <th>residual sugar</th>\n",
       "      <th>chlorides</th>\n",
       "      <th>free sulfur dioxide</th>\n",
       "      <th>total sulfur dioxide</th>\n",
       "      <th>density</th>\n",
       "      <th>pH</th>\n",
       "      <th>sulphates</th>\n",
       "      <th>alcohol</th>\n",
       "      <th>quality</th>\n",
       "    </tr>\n",
       "  </thead>\n",
       "  <tbody>\n",
       "    <tr>\n",
       "      <th>0</th>\n",
       "      <td>0.247788</td>\n",
       "      <td>0.397260</td>\n",
       "      <td>0.00</td>\n",
       "      <td>0.068493</td>\n",
       "      <td>0.106845</td>\n",
       "      <td>0.140845</td>\n",
       "      <td>0.098940</td>\n",
       "      <td>0.567548</td>\n",
       "      <td>0.606299</td>\n",
       "      <td>0.137725</td>\n",
       "      <td>0.153846</td>\n",
       "      <td>0.4</td>\n",
       "    </tr>\n",
       "    <tr>\n",
       "      <th>1</th>\n",
       "      <td>0.283186</td>\n",
       "      <td>0.520548</td>\n",
       "      <td>0.00</td>\n",
       "      <td>0.116438</td>\n",
       "      <td>0.143573</td>\n",
       "      <td>0.338028</td>\n",
       "      <td>0.215548</td>\n",
       "      <td>0.494126</td>\n",
       "      <td>0.362205</td>\n",
       "      <td>0.209581</td>\n",
       "      <td>0.215385</td>\n",
       "      <td>0.4</td>\n",
       "    </tr>\n",
       "    <tr>\n",
       "      <th>2</th>\n",
       "      <td>0.283186</td>\n",
       "      <td>0.438356</td>\n",
       "      <td>0.04</td>\n",
       "      <td>0.095890</td>\n",
       "      <td>0.133556</td>\n",
       "      <td>0.197183</td>\n",
       "      <td>0.169611</td>\n",
       "      <td>0.508811</td>\n",
       "      <td>0.409449</td>\n",
       "      <td>0.191617</td>\n",
       "      <td>0.215385</td>\n",
       "      <td>0.4</td>\n",
       "    </tr>\n",
       "    <tr>\n",
       "      <th>3</th>\n",
       "      <td>0.584071</td>\n",
       "      <td>0.109589</td>\n",
       "      <td>0.56</td>\n",
       "      <td>0.068493</td>\n",
       "      <td>0.105175</td>\n",
       "      <td>0.225352</td>\n",
       "      <td>0.190813</td>\n",
       "      <td>0.582232</td>\n",
       "      <td>0.330709</td>\n",
       "      <td>0.149701</td>\n",
       "      <td>0.215385</td>\n",
       "      <td>0.6</td>\n",
       "    </tr>\n",
       "    <tr>\n",
       "      <th>4</th>\n",
       "      <td>0.247788</td>\n",
       "      <td>0.397260</td>\n",
       "      <td>0.00</td>\n",
       "      <td>0.068493</td>\n",
       "      <td>0.106845</td>\n",
       "      <td>0.140845</td>\n",
       "      <td>0.098940</td>\n",
       "      <td>0.567548</td>\n",
       "      <td>0.606299</td>\n",
       "      <td>0.137725</td>\n",
       "      <td>0.153846</td>\n",
       "      <td>0.4</td>\n",
       "    </tr>\n",
       "  </tbody>\n",
       "</table>\n",
       "</div>"
      ],
      "text/plain": [
       "   fixed acidity  volatile acidity  citric acid  residual sugar  chlorides  \\\n",
       "0       0.247788          0.397260         0.00        0.068493   0.106845   \n",
       "1       0.283186          0.520548         0.00        0.116438   0.143573   \n",
       "2       0.283186          0.438356         0.04        0.095890   0.133556   \n",
       "3       0.584071          0.109589         0.56        0.068493   0.105175   \n",
       "4       0.247788          0.397260         0.00        0.068493   0.106845   \n",
       "\n",
       "   free sulfur dioxide  total sulfur dioxide   density        pH  sulphates  \\\n",
       "0             0.140845              0.098940  0.567548  0.606299   0.137725   \n",
       "1             0.338028              0.215548  0.494126  0.362205   0.209581   \n",
       "2             0.197183              0.169611  0.508811  0.409449   0.191617   \n",
       "3             0.225352              0.190813  0.582232  0.330709   0.149701   \n",
       "4             0.140845              0.098940  0.567548  0.606299   0.137725   \n",
       "\n",
       "    alcohol  quality  \n",
       "0  0.153846      0.4  \n",
       "1  0.215385      0.4  \n",
       "2  0.215385      0.4  \n",
       "3  0.215385      0.6  \n",
       "4  0.153846      0.4  "
      ]
     },
     "execution_count": 18,
     "metadata": {},
     "output_type": "execute_result"
    }
   ],
   "source": [
    "data_norm = (data-data.min())/(data.max()-data.min())\n",
    "data_norm.head()"
   ]
  },
  {
   "cell_type": "markdown",
   "metadata": {},
   "source": [
    "**Clustering jerárquico**"
   ]
  },
  {
   "cell_type": "code",
   "execution_count": 27,
   "metadata": {},
   "outputs": [],
   "source": [
    "from sklearn.cluster import AgglomerativeClustering"
   ]
  },
  {
   "cell_type": "code",
   "execution_count": 28,
   "metadata": {},
   "outputs": [],
   "source": [
    "clus = AgglomerativeClustering(n_clusters = 6, linkage = \"ward\").fit(data_norm)"
   ]
  },
  {
   "cell_type": "code",
   "execution_count": 41,
   "metadata": {},
   "outputs": [
    {
     "data": {
      "text/plain": [
       "array([2, 3, 1, 4, 5, 0])"
      ]
     },
     "execution_count": 41,
     "metadata": {},
     "output_type": "execute_result"
    }
   ],
   "source": [
    "#etiquetas\n",
    "md_h = pd.Series(clus.labels_)\n",
    "md_h.unique()"
   ]
  },
  {
   "cell_type": "code",
   "execution_count": 43,
   "metadata": {},
   "outputs": [
    {
     "data": {
      "image/png": "[encoded data removed]",
      "text/plain": [
       "<Figure size 432x288 with 1 Axes>"
      ]
     },
     "metadata": {},
     "output_type": "display_data"
    }
   ],
   "source": [
    "plt.hist(md_h, align = \"mid\")\n",
    "plt.title(\"Histograma de los clusters\")\n",
    "plt.xlabel(\"Cluster\")\n",
    "plt.ylabel(\"Número de vinos del cluster\")\n",
    "plt.xlim(-0.5,5.5)\n",
    "plt.grid()\n",
    "plt.show()\n"
   ]
  },
  {
   "cell_type": "code",
   "execution_count": 44,
   "metadata": {},
   "outputs": [
    {
     "data": {
      "text/plain": [
       "array([[   0,    4],\n",
       "       [ 135,  140],\n",
       "       [ 750,  751],\n",
       "       ...,\n",
       "       [3179, 3191],\n",
       "       [3192, 3193],\n",
       "       [3194, 3195]])"
      ]
     },
     "execution_count": 44,
     "metadata": {},
     "output_type": "execute_result"
    }
   ],
   "source": [
    "clus.children_"
   ]
  },
  {
   "cell_type": "code",
   "execution_count": 45,
   "metadata": {},
   "outputs": [],
   "source": [
    "from scipy.cluster.hierarchy import dendrogram, linkage"
   ]
  },
  {
   "cell_type": "code",
   "execution_count": 46,
   "metadata": {},
   "outputs": [],
   "source": [
    "z = linkage(data_norm, \"ward\")"
   ]
  },
  {
   "cell_type": "code",
   "execution_count": 48,
   "metadata": {},
   "outputs": [],
   "source": [
    "def dendrogram_tune(*args, **kwargs):  \n",
    "    \n",
    "    max_d=kwargs.pop(\"max_d\", None) \n",
    "    if max_d and 'color_threshold' not in kwargs:\n",
    "        kwargs['color_threshold'] = max_d\n",
    "    annotate_above = kwargs.pop('annotate_above', 0)\n",
    "    \n",
    "    plt.figure(figsize=(16,8))\n",
    "    ddata = dendrogram(*args,**kwargs)\n",
    "        \n",
    "    if not kwargs.get('no_plot', False):\n",
    "        plt.title(\"Clustering jerárquico con Dendrograma truncado\")\n",
    "        plt.xlabel(\"Índice del Dataset (o tamaño del cluster)\")\n",
    "        plt.ylabel(\"Distancia\")\n",
    "        for i, d, c in zip(ddata['icoord'], ddata['dcoord'], ddata['color_list']):\n",
    "            x = 0.5 * sum(i[1:3])\n",
    "            y = d[1]\n",
    "            if y>annotate_above:\n",
    "                plt.plot(x,y,'o',c=c)\n",
    "                plt.annotate('%.3g'%y, (x,y), xytext=(0,-5),\n",
    "                            textcoords=\"offset points\", va=\"top\", ha=\"center\")\n",
    "                \n",
    "    if max_d:\n",
    "        plt.axhline(y=max_d, c='k')\n",
    "        \n",
    "    return ddata"
   ]
  },
  {
   "cell_type": "code",
   "execution_count": 60,
   "metadata": {},
   "outputs": [
    {
     "data": {
      "image/png": "[encoded data removed]",
      "text/plain": [
       "<Figure size 1152x576 with 1 Axes>"
      ]
     },
     "metadata": {},
     "output_type": "display_data"
    }
   ],
   "source": [
    "dendrogram_tune(z,truncate_mode='lastp',p=15, leaf_rotation=90., leaf_font_size=12.,\n",
    "                show_contracted=True,annotate_above=10, max_d=6)\n",
    "plt.show()"
   ]
  },
  {
   "cell_type": "markdown",
   "metadata": {},
   "source": [
    "**K-means**"
   ]
  },
  {
   "cell_type": "code",
   "execution_count": 61,
   "metadata": {},
   "outputs": [],
   "source": [
    "from sklearn.cluster import KMeans\n",
    "from sklearn import datasets"
   ]
  },
  {
   "cell_type": "code",
   "execution_count": 62,
   "metadata": {},
   "outputs": [
    {
     "data": {
      "text/plain": [
       "KMeans(algorithm='auto', copy_x=True, init='k-means++', max_iter=300,\n",
       "       n_clusters=6, n_init=10, n_jobs=None, precompute_distances='auto',\n",
       "       random_state=None, tol=0.0001, verbose=0)"
      ]
     },
     "execution_count": 62,
     "metadata": {},
     "output_type": "execute_result"
    }
   ],
   "source": [
    "model = KMeans(n_clusters = 6, init=\"k-means++\", max_iter=300, n_init=10)\n",
    "model.fit(data_norm)"
   ]
  },
  {
   "cell_type": "code",
   "execution_count": 64,
   "metadata": {},
   "outputs": [
    {
     "data": {
      "text/plain": [
       "array([4, 4, 4, ..., 2, 2, 5], dtype=int32)"
      ]
     },
     "execution_count": 64,
     "metadata": {},
     "output_type": "execute_result"
    }
   ],
   "source": [
    "model.labels_"
   ]
  },
  {
   "cell_type": "code",
   "execution_count": 65,
   "metadata": {},
   "outputs": [],
   "source": [
    "md_k = pd.Series(model.labels_)"
   ]
  },
  {
   "cell_type": "code",
   "execution_count": 67,
   "metadata": {},
   "outputs": [
    {
     "data": {
      "text/html": [
       "<div>\n",
       "<style scoped>\n",
       "    .dataframe tbody tr th:only-of-type {\n",
       "        vertical-align: middle;\n",
       "    }\n",
       "\n",
       "    .dataframe tbody tr th {\n",
       "        vertical-align: top;\n",
       "    }\n",
       "\n",
       "    .dataframe thead th {\n",
       "        text-align: right;\n",
       "    }\n",
       "</style>\n",
       "<table border=\"1\" class=\"dataframe\">\n",
       "  <thead>\n",
       "    <tr style=\"text-align: right;\">\n",
       "      <th></th>\n",
       "      <th>fixed acidity</th>\n",
       "      <th>volatile acidity</th>\n",
       "      <th>citric acid</th>\n",
       "      <th>residual sugar</th>\n",
       "      <th>chlorides</th>\n",
       "      <th>free sulfur dioxide</th>\n",
       "      <th>total sulfur dioxide</th>\n",
       "      <th>density</th>\n",
       "      <th>pH</th>\n",
       "      <th>sulphates</th>\n",
       "      <th>alcohol</th>\n",
       "      <th>quality</th>\n",
       "      <th>clust_h</th>\n",
       "      <th>clust_k</th>\n",
       "    </tr>\n",
       "  </thead>\n",
       "  <tbody>\n",
       "    <tr>\n",
       "      <th>0</th>\n",
       "      <td>0.247788</td>\n",
       "      <td>0.397260</td>\n",
       "      <td>0.00</td>\n",
       "      <td>0.068493</td>\n",
       "      <td>0.106845</td>\n",
       "      <td>0.140845</td>\n",
       "      <td>0.098940</td>\n",
       "      <td>0.567548</td>\n",
       "      <td>0.606299</td>\n",
       "      <td>0.137725</td>\n",
       "      <td>0.153846</td>\n",
       "      <td>0.4</td>\n",
       "      <td>2</td>\n",
       "      <td>4</td>\n",
       "    </tr>\n",
       "    <tr>\n",
       "      <th>1</th>\n",
       "      <td>0.283186</td>\n",
       "      <td>0.520548</td>\n",
       "      <td>0.00</td>\n",
       "      <td>0.116438</td>\n",
       "      <td>0.143573</td>\n",
       "      <td>0.338028</td>\n",
       "      <td>0.215548</td>\n",
       "      <td>0.494126</td>\n",
       "      <td>0.362205</td>\n",
       "      <td>0.209581</td>\n",
       "      <td>0.215385</td>\n",
       "      <td>0.4</td>\n",
       "      <td>2</td>\n",
       "      <td>4</td>\n",
       "    </tr>\n",
       "    <tr>\n",
       "      <th>2</th>\n",
       "      <td>0.283186</td>\n",
       "      <td>0.438356</td>\n",
       "      <td>0.04</td>\n",
       "      <td>0.095890</td>\n",
       "      <td>0.133556</td>\n",
       "      <td>0.197183</td>\n",
       "      <td>0.169611</td>\n",
       "      <td>0.508811</td>\n",
       "      <td>0.409449</td>\n",
       "      <td>0.191617</td>\n",
       "      <td>0.215385</td>\n",
       "      <td>0.4</td>\n",
       "      <td>2</td>\n",
       "      <td>4</td>\n",
       "    </tr>\n",
       "    <tr>\n",
       "      <th>3</th>\n",
       "      <td>0.584071</td>\n",
       "      <td>0.109589</td>\n",
       "      <td>0.56</td>\n",
       "      <td>0.068493</td>\n",
       "      <td>0.105175</td>\n",
       "      <td>0.225352</td>\n",
       "      <td>0.190813</td>\n",
       "      <td>0.582232</td>\n",
       "      <td>0.330709</td>\n",
       "      <td>0.149701</td>\n",
       "      <td>0.215385</td>\n",
       "      <td>0.6</td>\n",
       "      <td>3</td>\n",
       "      <td>1</td>\n",
       "    </tr>\n",
       "    <tr>\n",
       "      <th>4</th>\n",
       "      <td>0.247788</td>\n",
       "      <td>0.397260</td>\n",
       "      <td>0.00</td>\n",
       "      <td>0.068493</td>\n",
       "      <td>0.106845</td>\n",
       "      <td>0.140845</td>\n",
       "      <td>0.098940</td>\n",
       "      <td>0.567548</td>\n",
       "      <td>0.606299</td>\n",
       "      <td>0.137725</td>\n",
       "      <td>0.153846</td>\n",
       "      <td>0.4</td>\n",
       "      <td>2</td>\n",
       "      <td>4</td>\n",
       "    </tr>\n",
       "  </tbody>\n",
       "</table>\n",
       "</div>"
      ],
      "text/plain": [
       "   fixed acidity  volatile acidity  citric acid  residual sugar  chlorides  \\\n",
       "0       0.247788          0.397260         0.00        0.068493   0.106845   \n",
       "1       0.283186          0.520548         0.00        0.116438   0.143573   \n",
       "2       0.283186          0.438356         0.04        0.095890   0.133556   \n",
       "3       0.584071          0.109589         0.56        0.068493   0.105175   \n",
       "4       0.247788          0.397260         0.00        0.068493   0.106845   \n",
       "\n",
       "   free sulfur dioxide  total sulfur dioxide   density        pH  sulphates  \\\n",
       "0             0.140845              0.098940  0.567548  0.606299   0.137725   \n",
       "1             0.338028              0.215548  0.494126  0.362205   0.209581   \n",
       "2             0.197183              0.169611  0.508811  0.409449   0.191617   \n",
       "3             0.225352              0.190813  0.582232  0.330709   0.149701   \n",
       "4             0.140845              0.098940  0.567548  0.606299   0.137725   \n",
       "\n",
       "    alcohol  quality  clust_h  clust_k  \n",
       "0  0.153846      0.4        2        4  \n",
       "1  0.215385      0.4        2        4  \n",
       "2  0.215385      0.4        2        4  \n",
       "3  0.215385      0.6        3        1  \n",
       "4  0.153846      0.4        2        4  "
      ]
     },
     "execution_count": 67,
     "metadata": {},
     "output_type": "execute_result"
    }
   ],
   "source": [
    "data_norm[\"clust_h\"] = md_h\n",
    "data_norm[\"clust_k\"] = md_k\n",
    "data_norm.head()"
   ]
  },
  {
   "cell_type": "code",
   "execution_count": 69,
   "metadata": {},
   "outputs": [
    {
     "data": {
      "image/png": "[encoded data removed]",
      "text/plain": [
       "<Figure size 432x288 with 1 Axes>"
      ]
     },
     "metadata": {},
     "output_type": "display_data"
    }
   ],
   "source": [
    "plt.hist(md_k)\n",
    "plt.title(\"histograma de los clusters (K-means)\")\n",
    "plt.xlabel(\"Cluster\")\n",
    "plt.ylabel(\"Número de vinos del cluster\")\n",
    "plt.grid()\n",
    "plt.show()"
   ]
  },
  {
   "cell_type": "code",
   "execution_count": 70,
   "metadata": {},
   "outputs": [
    {
     "data": {
      "text/html": [
       "<div>\n",
       "<style scoped>\n",
       "    .dataframe tbody tr th:only-of-type {\n",
       "        vertical-align: middle;\n",
       "    }\n",
       "\n",
       "    .dataframe tbody tr th {\n",
       "        vertical-align: top;\n",
       "    }\n",
       "\n",
       "    .dataframe thead th {\n",
       "        text-align: right;\n",
       "    }\n",
       "</style>\n",
       "<table border=\"1\" class=\"dataframe\">\n",
       "  <thead>\n",
       "    <tr style=\"text-align: right;\">\n",
       "      <th></th>\n",
       "      <th>fixed acidity</th>\n",
       "      <th>volatile acidity</th>\n",
       "      <th>citric acid</th>\n",
       "      <th>residual sugar</th>\n",
       "      <th>chlorides</th>\n",
       "      <th>free sulfur dioxide</th>\n",
       "      <th>total sulfur dioxide</th>\n",
       "      <th>density</th>\n",
       "      <th>pH</th>\n",
       "      <th>sulphates</th>\n",
       "      <th>alcohol</th>\n",
       "      <th>quality</th>\n",
       "      <th>clust_h</th>\n",
       "    </tr>\n",
       "    <tr>\n",
       "      <th>clust_k</th>\n",
       "      <th></th>\n",
       "      <th></th>\n",
       "      <th></th>\n",
       "      <th></th>\n",
       "      <th></th>\n",
       "      <th></th>\n",
       "      <th></th>\n",
       "      <th></th>\n",
       "      <th></th>\n",
       "      <th></th>\n",
       "      <th></th>\n",
       "      <th></th>\n",
       "      <th></th>\n",
       "    </tr>\n",
       "  </thead>\n",
       "  <tbody>\n",
       "    <tr>\n",
       "      <th>0</th>\n",
       "      <td>0.317053</td>\n",
       "      <td>0.279896</td>\n",
       "      <td>0.302390</td>\n",
       "      <td>0.151719</td>\n",
       "      <td>0.127041</td>\n",
       "      <td>0.377846</td>\n",
       "      <td>0.296064</td>\n",
       "      <td>0.540192</td>\n",
       "      <td>0.435943</td>\n",
       "      <td>0.177927</td>\n",
       "      <td>0.212272</td>\n",
       "      <td>0.452201</td>\n",
       "      <td>1.056604</td>\n",
       "    </tr>\n",
       "    <tr>\n",
       "      <th>1</th>\n",
       "      <td>0.583059</td>\n",
       "      <td>0.207562</td>\n",
       "      <td>0.509265</td>\n",
       "      <td>0.132457</td>\n",
       "      <td>0.131123</td>\n",
       "      <td>0.135039</td>\n",
       "      <td>0.090618</td>\n",
       "      <td>0.656621</td>\n",
       "      <td>0.330580</td>\n",
       "      <td>0.222608</td>\n",
       "      <td>0.288142</td>\n",
       "      <td>0.544490</td>\n",
       "      <td>2.081633</td>\n",
       "    </tr>\n",
       "    <tr>\n",
       "      <th>2</th>\n",
       "      <td>0.174642</td>\n",
       "      <td>0.322888</td>\n",
       "      <td>0.094646</td>\n",
       "      <td>0.093648</td>\n",
       "      <td>0.095823</td>\n",
       "      <td>0.250374</td>\n",
       "      <td>0.125895</td>\n",
       "      <td>0.322343</td>\n",
       "      <td>0.577834</td>\n",
       "      <td>0.185814</td>\n",
       "      <td>0.491105</td>\n",
       "      <td>0.613274</td>\n",
       "      <td>3.415929</td>\n",
       "    </tr>\n",
       "    <tr>\n",
       "      <th>3</th>\n",
       "      <td>0.332491</td>\n",
       "      <td>0.285225</td>\n",
       "      <td>0.497857</td>\n",
       "      <td>0.072652</td>\n",
       "      <td>0.550083</td>\n",
       "      <td>0.217807</td>\n",
       "      <td>0.217945</td>\n",
       "      <td>0.513059</td>\n",
       "      <td>0.230034</td>\n",
       "      <td>0.601796</td>\n",
       "      <td>0.155495</td>\n",
       "      <td>0.464286</td>\n",
       "      <td>5.000000</td>\n",
       "    </tr>\n",
       "    <tr>\n",
       "      <th>4</th>\n",
       "      <td>0.262921</td>\n",
       "      <td>0.359467</td>\n",
       "      <td>0.118659</td>\n",
       "      <td>0.091601</td>\n",
       "      <td>0.123305</td>\n",
       "      <td>0.144415</td>\n",
       "      <td>0.106809</td>\n",
       "      <td>0.490620</td>\n",
       "      <td>0.486776</td>\n",
       "      <td>0.155311</td>\n",
       "      <td>0.221206</td>\n",
       "      <td>0.441815</td>\n",
       "      <td>2.023669</td>\n",
       "    </tr>\n",
       "    <tr>\n",
       "      <th>5</th>\n",
       "      <td>0.365792</td>\n",
       "      <td>0.158468</td>\n",
       "      <td>0.424982</td>\n",
       "      <td>0.105978</td>\n",
       "      <td>0.106748</td>\n",
       "      <td>0.166761</td>\n",
       "      <td>0.085795</td>\n",
       "      <td>0.419036</td>\n",
       "      <td>0.420415</td>\n",
       "      <td>0.238149</td>\n",
       "      <td>0.480224</td>\n",
       "      <td>0.691636</td>\n",
       "      <td>0.116364</td>\n",
       "    </tr>\n",
       "  </tbody>\n",
       "</table>\n",
       "</div>"
      ],
      "text/plain": [
       "         fixed acidity  volatile acidity  citric acid  residual sugar  \\\n",
       "clust_k                                                                 \n",
       "0             0.317053          0.279896     0.302390        0.151719   \n",
       "1             0.583059          0.207562     0.509265        0.132457   \n",
       "2             0.174642          0.322888     0.094646        0.093648   \n",
       "3             0.332491          0.285225     0.497857        0.072652   \n",
       "4             0.262921          0.359467     0.118659        0.091601   \n",
       "5             0.365792          0.158468     0.424982        0.105978   \n",
       "\n",
       "         chlorides  free sulfur dioxide  total sulfur dioxide   density  \\\n",
       "clust_k                                                                   \n",
       "0         0.127041             0.377846              0.296064  0.540192   \n",
       "1         0.131123             0.135039              0.090618  0.656621   \n",
       "2         0.095823             0.250374              0.125895  0.322343   \n",
       "3         0.550083             0.217807              0.217945  0.513059   \n",
       "4         0.123305             0.144415              0.106809  0.490620   \n",
       "5         0.106748             0.166761              0.085795  0.419036   \n",
       "\n",
       "               pH  sulphates   alcohol   quality   clust_h  \n",
       "clust_k                                                     \n",
       "0        0.435943   0.177927  0.212272  0.452201  1.056604  \n",
       "1        0.330580   0.222608  0.288142  0.544490  2.081633  \n",
       "2        0.577834   0.185814  0.491105  0.613274  3.415929  \n",
       "3        0.230034   0.601796  0.155495  0.464286  5.000000  \n",
       "4        0.486776   0.155311  0.221206  0.441815  2.023669  \n",
       "5        0.420415   0.238149  0.480224  0.691636  0.116364  "
      ]
     },
     "execution_count": 70,
     "metadata": {},
     "output_type": "execute_result"
    }
   ],
   "source": [
    "# interpretación final\n",
    "\n",
    "data_norm.groupby(\"clust_k\").mean()"
   ]
  },
  {
   "cell_type": "code",
   "execution_count": null,
   "metadata": {},
   "outputs": [],
   "source": []
  }
 ],
 "metadata": {
  "kernelspec": {
   "display_name": "Python 3",
   "language": "python",
   "name": "python3"
  },
  "language_info": {
   "codemirror_mode": {
    "name": "ipython",
    "version": 3
   },
   "file_extension": ".py",
   "mimetype": "text/x-python",
   "name": "python",
   "nbconvert_exporter": "python",
   "pygments_lexer": "ipython3",
   "version": "3.7.6"
  },
  "latex_envs": {
   "LaTeX_envs_menu_present": true,
   "autoclose": true,
   "autocomplete": true,
   "bibliofile": "biblio.bib",
   "cite_by": "apalike",
   "current_citInitial": 1,
   "eqLabelWithNumbers": true,
   "eqNumInitial": 1,
   "hotkeys": {
    "equation": "Ctrl-E",
    "itemize": "Ctrl-I"
   },
   "labels_anchors": false,
   "latex_user_defs": false,
   "report_style_numbering": true,
   "user_envs_cfg": false
  }
 },
 "nbformat": 4,
 "nbformat_minor": 4
}
