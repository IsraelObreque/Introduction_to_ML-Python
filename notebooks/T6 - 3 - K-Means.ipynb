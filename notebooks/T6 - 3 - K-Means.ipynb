{
 "cells": [
  {
   "cell_type": "markdown",
   "metadata": {},
   "source": [
    "# El método de los k-means"
   ]
  },
  {
   "cell_type": "code",
   "execution_count": 3,
   "metadata": {},
   "outputs": [],
   "source": [
    "import numpy as np"
   ]
  },
  {
   "cell_type": "code",
   "execution_count": 5,
   "metadata": {},
   "outputs": [
    {
     "data": {
      "text/plain": [
       "array([[7.18272822e-01, 9.28374339e-01, 9.43199472e-01],\n",
       "       [5.09666514e-01, 4.82635206e-01, 4.77887038e-01],\n",
       "       [4.30306425e-01, 8.73503394e-01, 6.77773014e-01],\n",
       "       [2.88467172e-04, 6.13382196e-01, 5.35170051e-01],\n",
       "       [8.46462925e-01, 2.17742448e-01, 1.75025611e-01],\n",
       "       [6.61614321e-01, 6.68947185e-01, 7.86627788e-01],\n",
       "       [8.93563615e-01, 2.14841563e-01, 6.50122516e-01],\n",
       "       [8.40289748e-01, 4.01675172e-01, 8.39656847e-01],\n",
       "       [1.82598205e-01, 4.57599213e-01, 3.35222236e-01],\n",
       "       [3.10585908e-01, 9.80152134e-01, 4.52744635e-01],\n",
       "       [7.52478387e-01, 3.63675056e-01, 2.69981319e-01],\n",
       "       [3.68837134e-01, 9.11087261e-01, 2.83713730e-01],\n",
       "       [9.17595559e-01, 7.30025223e-01, 2.19748631e-01],\n",
       "       [2.17620954e-01, 8.15036290e-01, 8.55395460e-01],\n",
       "       [8.96886218e-01, 9.15386858e-01, 1.32620132e-02],\n",
       "       [9.81633318e-01, 6.42954224e-02, 1.81123241e-02],\n",
       "       [9.14588457e-01, 1.30744656e-02, 5.05018909e-01],\n",
       "       [4.10207496e-01, 2.61115766e-01, 1.27554111e-01],\n",
       "       [8.75793005e-01, 1.74132199e-01, 2.41345330e-01],\n",
       "       [7.59975248e-01, 4.40573351e-01, 7.94725376e-01],\n",
       "       [5.17109636e-01, 1.05979576e-01, 1.98051568e-01],\n",
       "       [8.59376076e-01, 6.28698251e-01, 4.61996179e-01],\n",
       "       [9.23926961e-01, 8.78623479e-01, 5.79508092e-01],\n",
       "       [8.91896222e-01, 2.50323425e-01, 1.63105123e-01],\n",
       "       [9.34541877e-01, 1.10585808e-01, 4.43765269e-01],\n",
       "       [7.46817668e-01, 5.37618582e-01, 4.83389559e-01],\n",
       "       [1.15166061e-01, 5.41019374e-02, 2.48900734e-01],\n",
       "       [5.09294617e-01, 4.50648320e-01, 6.56552014e-01],\n",
       "       [3.73456935e-01, 5.60490057e-01, 7.12916648e-01],\n",
       "       [4.55983640e-01, 9.96124172e-03, 1.36222957e-01]])"
      ]
     },
     "execution_count": 5,
     "metadata": {},
     "output_type": "execute_result"
    }
   ],
   "source": [
    "data = np.random.random(90).reshape(30,3)\n",
    "data"
   ]
  },
  {
   "cell_type": "code",
   "execution_count": 7,
   "metadata": {},
   "outputs": [
    {
     "data": {
      "text/plain": [
       "array([[0.84028975, 0.40167517, 0.83965685],\n",
       "       [0.36883713, 0.91108726, 0.28371373]])"
      ]
     },
     "execution_count": 7,
     "metadata": {},
     "output_type": "execute_result"
    }
   ],
   "source": [
    "# Recordemos que k-means tiene un problema, y es que hay que decidir cuantos clusters vamos a tener a priori\n",
    "# Imaginemos que queremos dos clusters\n",
    "# Escogeremos al azar dos centroides\n",
    "\n",
    "c1 = np.random.choice(range(len(data)))\n",
    "c2 = np.random.choice(range(len(data)))\n",
    "clust_centers = np.vstack([data[c1],data[c2]])\n",
    "clust_centers"
   ]
  },
  {
   "cell_type": "code",
   "execution_count": 8,
   "metadata": {},
   "outputs": [],
   "source": [
    "from scipy.cluster.vq import vq"
   ]
  },
  {
   "cell_type": "code",
   "execution_count": 9,
   "metadata": {},
   "outputs": [
    {
     "data": {
      "text/plain": [
       "(array([0, 1, 1, 1, 0, 0, 0, 0, 1, 1, 0, 1, 1, 1, 1, 0, 0, 1, 0, 0, 0, 0,\n",
       "        0, 0, 0, 0, 1, 0, 0, 0], dtype=int32),\n",
       " array([0.55047363, 0.49102683, 0.40059174, 0.53636434, 0.68964051,\n",
       "        0.3258394 , 0.2714188 , 0.        , 0.49293963, 0.19166275,\n",
       "        0.57765479, 0.        , 0.58138697, 0.59909275, 0.59329457,\n",
       "        0.8992989 , 0.51818274, 0.66974643, 0.64110292, 0.09991158,\n",
       "        0.77687747, 0.44105708, 0.54968377, 0.69519265, 0.5003465 ,\n",
       "        0.39261179, 0.8944187 , 0.38142303, 0.50913468, 0.89216043]))"
      ]
     },
     "execution_count": 9,
     "metadata": {},
     "output_type": "execute_result"
    }
   ],
   "source": [
    "vq(data,clust_centers)"
   ]
  },
  {
   "cell_type": "code",
   "execution_count": 10,
   "metadata": {},
   "outputs": [],
   "source": [
    "from scipy.cluster.vq import kmeans"
   ]
  },
  {
   "cell_type": "code",
   "execution_count": 11,
   "metadata": {},
   "outputs": [
    {
     "data": {
      "text/plain": [
       "(array([[0.80106256, 0.35101822, 0.35114399],\n",
       "        [0.3664757 , 0.64966313, 0.58050857]]),\n",
       " 0.3745543037420574)"
      ]
     },
     "execution_count": 11,
     "metadata": {},
     "output_type": "execute_result"
    }
   ],
   "source": [
    "kmeans(data, clust_centers) # esto nos entrega la información de los baricentros, el numero al final es la suma\n",
    "# de los cuadrados de los errores "
   ]
  },
  {
   "cell_type": "code",
   "execution_count": 12,
   "metadata": {},
   "outputs": [
    {
     "data": {
      "text/plain": [
       "(array([[0.74313617, 0.24894579, 0.24358689],\n",
       "        [0.525808  , 0.66431528, 0.61727988]]),\n",
       " 0.36013950914943177)"
      ]
     },
     "execution_count": 12,
     "metadata": {},
     "output_type": "execute_result"
    }
   ],
   "source": [
    "# k-means funciona muy bien si en lugar de darle un punto de partida, simplemente especificamos el número\n",
    "# de clusters que queremos y no los centroides\n",
    "\n",
    "kmeans(data,2)"
   ]
  },
  {
   "cell_type": "code",
   "execution_count": null,
   "metadata": {},
   "outputs": [],
   "source": []
  }
 ],
 "metadata": {
  "kernelspec": {
   "display_name": "Python 3",
   "language": "python",
   "name": "python3"
  },
  "language_info": {
   "codemirror_mode": {
    "name": "ipython",
    "version": 3
   },
   "file_extension": ".py",
   "mimetype": "text/x-python",
   "name": "python",
   "nbconvert_exporter": "python",
   "pygments_lexer": "ipython3",
   "version": "3.7.6"
  }
 },
 "nbformat": 4,
 "nbformat_minor": 4
}
